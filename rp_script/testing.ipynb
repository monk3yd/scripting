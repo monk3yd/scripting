{
 "cells": [
  {
   "cell_type": "code",
   "execution_count": 20,
   "metadata": {},
   "outputs": [],
   "source": [
    "import pandas as pd\n",
    "\n",
    "df = pd.read_csv(\"BD - Protecciones.csv\")[[\n",
    "    \"TERMINADA\",\n",
    "    \"CORTE\",\n",
    "    \"RECURRENTE\",\n",
    "    \"CI\",\n",
    "    \"FECHA CARTA/FUN\",\n",
    "    \"ISAPRE\",\n",
    "    \"PLAN\",\n",
    "    \"% ALZA\",\n",
    "    \"PB\",\n",
    "    \"PBR\",\n",
    "    \"MES OBJECIÓN\"\n",
    "    ]]"
   ]
  },
  {
   "cell_type": "code",
   "execution_count": 21,
   "metadata": {},
   "outputs": [
    {
     "name": "stdout",
     "output_type": "stream",
     "text": [
      "   TERMINADA      CORTE                  RECURRENTE            CI  \\\n",
      "1      False  LA SERENA          MANUEL ABARCA MEZA  18.461.370-0   \n",
      "4      False  LA SERENA  FRANCISCO MIRANDA BERKHOFF  18.636.890-8   \n",
      "\n",
      "       FECHA CARTA/FUN       ISAPRE             PLAN % ALZA    PB    PBR  \\\n",
      "1  25 de marzo de 2022    BANMÉDICA         BSUS19C6   7.6%  2.56  2.755   \n",
      "4  31 de marzo de 2022  CRUZ BLANCA  VIVO + 7600 221   7.6%  4.35  4.680   \n",
      "\n",
      "  MES OBJECIÓN  \n",
      "1         mayo  \n",
      "4         mayo  \n"
     ]
    }
   ],
   "source": [
    "df_filtered = df.dropna(subset=[\"FECHA CARTA/FUN\"])\n",
    "# Clean df --- extract NAPB only\n",
    "print(df_filtered)"
   ]
  }
 ],
 "metadata": {
  "interpreter": {
   "hash": "b0233c7ce84612b8ce22aa384c095b84c68aa9bf465ebbc18f875b6542cc42dc"
  },
  "kernelspec": {
   "display_name": "Python 3.9.12 ('rp_script')",
   "language": "python",
   "name": "python3"
  },
  "language_info": {
   "codemirror_mode": {
    "name": "ipython",
    "version": 3
   },
   "file_extension": ".py",
   "mimetype": "text/x-python",
   "name": "python",
   "nbconvert_exporter": "python",
   "pygments_lexer": "ipython3",
   "version": "3.9.12"
  },
  "orig_nbformat": 4
 },
 "nbformat": 4,
 "nbformat_minor": 2
}
