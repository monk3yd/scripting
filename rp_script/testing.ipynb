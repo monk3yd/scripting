{
 "cells": [
  {
   "cell_type": "code",
   "execution_count": null,
   "metadata": {},
   "outputs": [],
   "source": [
    "import pandas as pd\n",
    "\n",
    "df = pd.read_csv(\"BD - Protecciones.csv\")[[\n",
    "    \"INGRESAR\",\n",
    "    \"TIPO\",\n",
    "    \"CORTE\",\n",
    "    \"RECURRENTE\",\n",
    "    \"CI\",\n",
    "    \"FECHA CARTA\",\n",
    "    \"ISAPRE\",\n",
    "    \"PLAN\",\n",
    "    \"ALZA\",\n",
    "    \"PB\",\n",
    "    \"PBR\",\n",
    "    \"MES OBJECIÓN\"\n",
    "    # \"TERMINADA\",\n",
    "    ]]\n",
    "print(df)"
   ]
  },
  {
   "cell_type": "code",
   "execution_count": null,
   "metadata": {},
   "outputs": [],
   "source": [
    "# Clean df --- extract INGRESAR only\n",
    "df_filtered = df[df[\"INGRESAR\"]]\n",
    "print(df_filtered)\n",
    "# df_filtered = df.dropna()\n",
    "# df_filtered = df.dropna(subset=[\"FECHA CARTA\"])"
   ]
  },
  {
   "cell_type": "code",
   "execution_count": 32,
   "metadata": {},
   "outputs": [
    {
     "name": "stdout",
     "output_type": "stream",
     "text": [
      "[{'INGRESAR': True, 'TIPO': 'NAPB', 'CORTE': 'LA SERENA', 'RECURRENTE': 'MANUEL ABARCA MEZA', 'CI': '18.461.370-0', 'FECHA CARTA': '25 de marzo de 2022', 'ISAPRE': 'BANMÉDICA', 'PLAN': 'BSUS19C6', 'ALZA': '7.6%', 'PB': '2.56', 'PBR': '2.755', 'MES OBJECIÓN': 'mayo'}, {'INGRESAR': True, 'TIPO': 'NAPB', 'CORTE': 'LA SERENA', 'RECURRENTE': 'FRANCISCO MIRANDA BERKHOFF', 'CI': '18.636.890-8', 'FECHA CARTA': '31 de marzo de 2022', 'ISAPRE': 'CRUZ BLANCA', 'PLAN': 'VIVO + 7600 221', 'ALZA': '7.6%', 'PB': '4.35', 'PBR': '4.68', 'MES OBJECIÓN': 'mayo'}]\n"
     ]
    }
   ],
   "source": [
    "# df to list of dicts, each element is list needs to be a different docs\n",
    "dict_df = df_filtered.to_dict(orient=\"records\")\n",
    "print(dict_df)"
   ]
  }
 ],
 "metadata": {
  "interpreter": {
   "hash": "b0233c7ce84612b8ce22aa384c095b84c68aa9bf465ebbc18f875b6542cc42dc"
  },
  "kernelspec": {
   "display_name": "Python 3.9.12 ('rp_script')",
   "language": "python",
   "name": "python3"
  },
  "language_info": {
   "codemirror_mode": {
    "name": "ipython",
    "version": 3
   },
   "file_extension": ".py",
   "mimetype": "text/x-python",
   "name": "python",
   "nbconvert_exporter": "python",
   "pygments_lexer": "ipython3",
   "version": "3.9.7"
  },
  "orig_nbformat": 4
 },
 "nbformat": 4,
 "nbformat_minor": 2
}
