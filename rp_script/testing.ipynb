{
 "cells": [
  {
   "cell_type": "code",
   "execution_count": 24,
   "metadata": {},
   "outputs": [
    {
     "name": "stdout",
     "output_type": "stream",
     "text": [
      "     INGRESAR  TIPO      CORTE               RECURRENTE            CI  \\\n",
      "0       False   APB  LA SERENA  MÓNICA GAJARDO GONZÁLEZ   7.772.589-K   \n",
      "1       False   APB  LA SERENA       HERNÁN NÚÑEZ CEPPI   5.725.008-9   \n",
      "2       False   APB  LA SERENA    KARINA PAIVA ESPINOZA  15.933.662-K   \n",
      "3       False   APB  LA SERENA     SOLANGE LUENGO MUÑOZ  12.864.163-7   \n",
      "4       False   APB  LA SERENA      SILVANA CERDA OÑATE  10.188.797-9   \n",
      "..        ...   ...        ...                      ...           ...   \n",
      "172     False  NAPB  LA SERENA   ALEJANDRA SOTO CORNEJO  13.456.128-9   \n",
      "173     False  NAPB  LA SERENA   CRISTIAN HERRERA TAIBO  10.640.380-5   \n",
      "174     False  NAPB  LA SERENA         JAVIER LIRA PINO  17.268.037-2   \n",
      "175     False  NAPB  LA SERENA     JORGE CARVAJAL GEZAN  18.933.347-1   \n",
      "176     False  NAPB  LA SERENA  GONZALO TORRES CALDERON  16.333.215-9   \n",
      "\n",
      "             FECHA CARTA                ISAPRE PLAN ALZA   PB  PBR  \\\n",
      "0    14 de abril de 2019  COLMENA GOLDEN CROSS  NaN  NaN  NaN  NaN   \n",
      "1    14 de abril de 2019  COLMENA GOLDEN CROSS  NaN  NaN  NaN  NaN   \n",
      "2    14 de junio de 2019  COLMENA GOLDEN CROSS  NaN  NaN  NaN  NaN   \n",
      "3    31 de julio de 2019           CRUZ BLANCA  NaN  NaN  NaN  NaN   \n",
      "4    28 de junio de 2019             BANMÉDICA  NaN  NaN  NaN  NaN   \n",
      "..                   ...                   ...  ...  ...  ...  ...   \n",
      "172                  NaN              CONSALUD  NaN  NaN  NaN  NaN   \n",
      "173                  NaN             BANMEDICA  NaN  NaN  NaN  NaN   \n",
      "174                  NaN           CRUZ BLANCA  NaN  NaN  NaN  NaN   \n",
      "175                  NaN  COLMENA GOLDEN CROSS  NaN  NaN  NaN  NaN   \n",
      "176                  NaN           CRUZ BLANCA  NaN  NaN  NaN  NaN   \n",
      "\n",
      "    MES OBJECIÓN  \n",
      "0            NaN  \n",
      "1            NaN  \n",
      "2            NaN  \n",
      "3            NaN  \n",
      "4            NaN  \n",
      "..           ...  \n",
      "172          NaN  \n",
      "173          NaN  \n",
      "174          NaN  \n",
      "175          NaN  \n",
      "176          NaN  \n",
      "\n",
      "[177 rows x 12 columns]\n"
     ]
    }
   ],
   "source": [
    "import pandas as pd\n",
    "\n",
    "df = pd.read_csv(\"BD - Protecciones.csv\")[[\n",
    "    \"INGRESAR\",\n",
    "    \"TIPO\",\n",
    "    \"CORTE\",\n",
    "    \"RECURRENTE\",\n",
    "    \"CI\",\n",
    "    \"FECHA CARTA\",\n",
    "    \"ISAPRE\",\n",
    "    \"PLAN\",\n",
    "    \"ALZA\",\n",
    "    \"PB\",\n",
    "    \"PBR\",\n",
    "    \"MES OBJECIÓN\"\n",
    "    # \"TERMINADA\",\n",
    "    ]]\n",
    "print(df)"
   ]
  },
  {
   "cell_type": "code",
   "execution_count": 22,
   "metadata": {},
   "outputs": [
    {
     "name": "stdout",
     "output_type": "stream",
     "text": [
      "Empty DataFrame\n",
      "Columns: [INGRESAR, TIPO, CORTE, RECURRENTE, CI, FECHA CARTA, ISAPRE, PLAN, ALZA, PB, PBR, MES OBJECIÓN]\n",
      "Index: []\n"
     ]
    }
   ],
   "source": [
    "# Clean df --- extract NAPB only\n",
    "df_filtered = df[df[\"INGRESAR\"] == \"True\"]\n",
    "print(df_filtered)\n",
    "# df_filtered = df.dropna()\n",
    "# df_filtered = df.dropna(subset=[\"FECHA CARTA\"])"
   ]
  },
  {
   "cell_type": "code",
   "execution_count": 21,
   "metadata": {},
   "outputs": [
    {
     "name": "stdout",
     "output_type": "stream",
     "text": [
      "[]\n"
     ]
    }
   ],
   "source": [
    "# df to list of dicts, each element is list needs to be a different docs\n",
    "dict_df = df_filtered.to_dict(orient=\"records\")\n",
    "print(dict_df)"
   ]
  }
 ],
 "metadata": {
  "interpreter": {
   "hash": "b0233c7ce84612b8ce22aa384c095b84c68aa9bf465ebbc18f875b6542cc42dc"
  },
  "kernelspec": {
   "display_name": "Python 3.9.12 ('rp_script')",
   "language": "python",
   "name": "python3"
  },
  "language_info": {
   "codemirror_mode": {
    "name": "ipython",
    "version": 3
   },
   "file_extension": ".py",
   "mimetype": "text/x-python",
   "name": "python",
   "nbconvert_exporter": "python",
   "pygments_lexer": "ipython3",
   "version": "3.9.7"
  },
  "orig_nbformat": 4
 },
 "nbformat": 4,
 "nbformat_minor": 2
}
