{
 "cells": [
  {
   "cell_type": "code",
   "execution_count": 6,
   "metadata": {},
   "outputs": [],
   "source": [
    "import pandas as pd\n",
    "\n",
    "df = pd.read_csv(\"BD - Protecciones.csv\")[[\n",
    "    \"TERMINADA\",\n",
    "    \"CORTE\",\n",
    "    \"RECURRENTE\",\n",
    "    \"CI\",\n",
    "    \"FECHA CARTA/FUN\",\n",
    "    \"ISAPRE\",\n",
    "    \"PLAN\",\n",
    "    \"% ALZA\",\n",
    "    \"PB\",\n",
    "    \"PBR\",\n",
    "    \"MES OBJECIÓN\"\n",
    "    ]]"
   ]
  },
  {
   "cell_type": "code",
   "execution_count": 7,
   "metadata": {},
   "outputs": [],
   "source": [
    "# Clean df --- extract NAPB only\n",
    "df_filtered = df.dropna(subset=[\"FECHA CARTA/FUN\"])"
   ]
  },
  {
   "cell_type": "code",
   "execution_count": 9,
   "metadata": {},
   "outputs": [
    {
     "ename": "SyntaxError",
     "evalue": "unexpected EOF while parsing (2790280805.py, line 3)",
     "output_type": "error",
     "traceback": [
      "\u001b[0;36m  File \u001b[0;32m\"/tmp/ipykernel_28464/2790280805.py\"\u001b[0;36m, line \u001b[0;32m3\u001b[0m\n\u001b[0;31m    print(dict_df\u001b[0m\n\u001b[0m                 ^\u001b[0m\n\u001b[0;31mSyntaxError\u001b[0m\u001b[0;31m:\u001b[0m unexpected EOF while parsing\n"
     ]
    }
   ],
   "source": [
    "# df to list of dicts, each element is list needs to be a different docs\n",
    "dict_df = df_filtered.to_dict(orient=\"records\")\n",
    "print(dict_df)"
   ]
  }
 ],
 "metadata": {
  "interpreter": {
   "hash": "b0233c7ce84612b8ce22aa384c095b84c68aa9bf465ebbc18f875b6542cc42dc"
  },
  "kernelspec": {
   "display_name": "Python 3.9.12 ('rp_script')",
   "language": "python",
   "name": "python3"
  },
  "language_info": {
   "codemirror_mode": {
    "name": "ipython",
    "version": 3
   },
   "file_extension": ".py",
   "mimetype": "text/x-python",
   "name": "python",
   "nbconvert_exporter": "python",
   "pygments_lexer": "ipython3",
   "version": "3.9.7"
  },
  "orig_nbformat": 4
 },
 "nbformat": 4,
 "nbformat_minor": 2
}
